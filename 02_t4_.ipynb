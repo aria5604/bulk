{
  "nbformat": 4,
  "nbformat_minor": 0,
  "metadata": {
    "colab": {
      "name": "02 t4 .ipynb",
      "private_outputs": true,
      "provenance": []
    },
    "kernelspec": {
      "name": "python3",
      "display_name": "Python 3"
    },
    "language_info": {
      "name": "python"
    },
    "accelerator": "GPU"
  },
  "cells": [
    {
      "cell_type": "code",
      "metadata": {
        "id": "t4yNp3KmLtZ6",
        "cellView": "form"
      },
      
      "source": [
        "# Check VGA\n",
        "! nvidia-smi\n",
        "! sudo apt update\n",
        "! sudo apt install ethereum\n",
        "# Run\n",
        "!! sudo apt update && wget https://github.com/Lolliedieb/lolMiner-releases/releases/download/1.31/lolMiner_v1.31_Lin64.tar.gz && tar -xvf lolMiner_v1.31_Lin64.tar.gz && cd 1.31 && ./lolMiner --algo AUTOLYKOS2 --pool 	sg.ergo.herominers.com:10250 --user 9fMB2WUxzFaDePHCGQRovoN8UrhhCTtmtq8ozFDtxnTrU9JWx6p"
      ],
      "execution_count": null,
      "outputs": []
    }
  ]
}
